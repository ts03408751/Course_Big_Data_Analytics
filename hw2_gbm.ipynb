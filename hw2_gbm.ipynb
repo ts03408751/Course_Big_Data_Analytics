{
 "cells": [
  {
   "cell_type": "code",
   "execution_count": 8,
   "metadata": {},
   "outputs": [],
   "source": [
    "import pandas as pd \n",
    "import numpy as np\n",
    "\n",
    "from sklearn.ensemble import GradientBoostingClassifier  #GBM algorithm\n",
    "from sklearn import cross_validation, metrics   #Additional scklearn functions\n",
    "from sklearn.grid_search import GridSearchCV   #Perforing grid search\n",
    "\n",
    "import xgboost as xgb\n",
    "import matplotlib.pylab as plt\n",
    "%matplotlib inline\n",
    "\n",
    "import seaborn as sb"
   ]
  },
  {
   "cell_type": "code",
   "execution_count": 2,
   "metadata": {
    "collapsed": true
   },
   "outputs": [],
   "source": [
    "df = pd.read_csv('../Microsoft-Malware-Challenge/Dataset/train/LargeTrain.csv')"
   ]
  },
  {
   "cell_type": "code",
   "execution_count": 3,
   "metadata": {
    "collapsed": true
   },
   "outputs": [],
   "source": [
    "#extract all columns name\n",
    "col_name = list(df.columns.values)[:1804]\n",
    "\n",
    "#Generate feature and target array\n",
    "feature = df[col_name].values\n",
    "target = df['Class'].values"
   ]
  },
  {
   "cell_type": "code",
   "execution_count": 4,
   "metadata": {
    "collapsed": true
   },
   "outputs": [],
   "source": [
    "gbm0 = GradientBoostingClassifier(random_state=10)"
   ]
  },
  {
   "cell_type": "code",
   "execution_count": 6,
   "metadata": {
    "scrolled": true
   },
   "outputs": [
    {
     "name": "stdout",
     "output_type": "stream",
     "text": [
      "CPU times: user 7min 28s, sys: 160 ms, total: 7min 28s\n",
      "Wall time: 7min 30s\n"
     ]
    }
   ],
   "source": [
    "%%time\n",
    "gg = gbm0.fit(feature, target)"
   ]
  },
  {
   "cell_type": "code",
   "execution_count": 11,
   "metadata": {},
   "outputs": [
    {
     "data": {
      "text/plain": [
       "[(0.0686, 'section_names_header'),\n",
       " (0.04914, 'ent_q_diff_diffs_1_median'),\n",
       " (0.02167, 'ent_q_diffs_max'),\n",
       " (0.01968, 'Offset.1'),\n",
       " (0.01823, 'DATA'),\n",
       " (0.01625, 'TB_c7'),\n",
       " (0.01133, 'ent_q_diffs_19'),\n",
       " (0.01098, 'string_len_counts_2'),\n",
       " (0.01049, 'ent_p_diffs_18'),\n",
       " (0.01043, 'section_names_.edata')]"
      ]
     },
     "execution_count": 11,
     "metadata": {},
     "output_type": "execute_result"
    }
   ],
   "source": [
    "feature_rank = sorted(zip(map(lambda x: round(x, 5), gg.feature_importances_), col_name), reverse=True)\n",
    "feature_rank[:10]"
   ]
  },
  {
   "cell_type": "code",
   "execution_count": null,
   "metadata": {
    "collapsed": true
   },
   "outputs": [],
   "source": [
    "%%time\n",
    "param_test1 = {\n",
    " 'n_estimators':range(20,81,10),\n",
    " 'max_depth':range(5,14,2)\n",
    "}\n",
    "gb_search1 = GridSearchCV(estimator = GradientBoostingClassifier(random_state=10), \n",
    "     param_grid = param_test1, cv=5)\n",
    "gb_search1.fit(feature, target)\n",
    "print gb_search1.grid_scores_, gb_search1.best_params_, gb_search1.best_score_"
   ]
  }
 ],
 "metadata": {
  "kernelspec": {
   "display_name": "Python 2",
   "language": "python",
   "name": "python2"
  },
  "language_info": {
   "codemirror_mode": {
    "name": "ipython",
    "version": 2
   },
   "file_extension": ".py",
   "mimetype": "text/x-python",
   "name": "python",
   "nbconvert_exporter": "python",
   "pygments_lexer": "ipython2",
   "version": "2.7.13"
  }
 },
 "nbformat": 4,
 "nbformat_minor": 2
}
