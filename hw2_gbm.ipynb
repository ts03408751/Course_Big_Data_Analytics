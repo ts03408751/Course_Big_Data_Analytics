{
 "cells": [
  {
   "cell_type": "code",
   "execution_count": 1,
   "metadata": {},
   "outputs": [
    {
     "name": "stderr",
     "output_type": "stream",
     "text": [
      "/home/yuan/anaconda2/lib/python2.7/site-packages/sklearn/cross_validation.py:44: DeprecationWarning: This module was deprecated in version 0.18 in favor of the model_selection module into which all the refactored classes and functions are moved. Also note that the interface of the new CV iterators are different from that of this module. This module will be removed in 0.20.\n",
      "  \"This module will be removed in 0.20.\", DeprecationWarning)\n",
      "/home/yuan/anaconda2/lib/python2.7/site-packages/sklearn/grid_search.py:43: DeprecationWarning: This module was deprecated in version 0.18 in favor of the model_selection module into which all the refactored classes and functions are moved. This module will be removed in 0.20.\n",
      "  DeprecationWarning)\n"
     ]
    }
   ],
   "source": [
    "import pandas as pd \n",
    "import numpy as np\n",
    "\n",
    "from sklearn.ensemble import GradientBoostingClassifier  #GBM algorithm\n",
    "from sklearn import cross_validation, metrics   #Additional scklearn functions\n",
    "from sklearn.grid_search import GridSearchCV   #Perforing grid search\n",
    "\n",
    "import xgboost as xgb\n",
    "import matplotlib.pylab as plt\n",
    "%matplotlib inline\n",
    "\n",
    "import seaborn as sb"
   ]
  },
  {
   "cell_type": "code",
   "execution_count": 2,
   "metadata": {
    "collapsed": true
   },
   "outputs": [],
   "source": [
    "df = pd.read_csv('../Microsoft-Malware-Challenge/Dataset/train/LargeTrain.csv')"
   ]
  },
  {
   "cell_type": "code",
   "execution_count": 3,
   "metadata": {
    "collapsed": true
   },
   "outputs": [],
   "source": [
    "#extract all columns name\n",
    "col_name = list(df.columns.values)[:1804]\n",
    "\n",
    "#Generate feature and target array\n",
    "feature = df[col_name].values\n",
    "target = df['Class'].values"
   ]
  },
  {
   "cell_type": "code",
   "execution_count": 4,
   "metadata": {
    "collapsed": true
   },
   "outputs": [],
   "source": [
    "gbm0 = GradientBoostingClassifier(random_state=10)"
   ]
  },
  {
   "cell_type": "code",
   "execution_count": 5,
   "metadata": {
    "scrolled": true
   },
   "outputs": [
    {
     "name": "stdout",
     "output_type": "stream",
     "text": [
      "CPU times: user 6min 11s, sys: 36 ms, total: 6min 11s\n",
      "Wall time: 6min 11s\n"
     ]
    }
   ],
   "source": [
    "%%time\n",
    "gg = gbm0.fit(feature, target)"
   ]
  },
  {
   "cell_type": "code",
   "execution_count": 6,
   "metadata": {},
   "outputs": [
    {
     "data": {
      "text/plain": [
       "[(0.0686, 'section_names_header'),\n",
       " (0.04914, 'ent_q_diff_diffs_1_median'),\n",
       " (0.02167, 'ent_q_diffs_max'),\n",
       " (0.01968, 'Offset.1'),\n",
       " (0.01823, 'DATA'),\n",
       " (0.01625, 'TB_c7'),\n",
       " (0.01133, 'ent_q_diffs_19'),\n",
       " (0.01098, 'string_len_counts_2'),\n",
       " (0.01049, 'ent_p_diffs_18'),\n",
       " (0.01043, 'section_names_.edata')]"
      ]
     },
     "execution_count": 6,
     "metadata": {},
     "output_type": "execute_result"
    }
   ],
   "source": [
    "feature_rank = sorted(zip(map(lambda x: round(x, 5), gg.feature_importances_), col_name), reverse=True)\n",
    "feature_rank[:10]"
   ]
  },
  {
   "cell_type": "code",
   "execution_count": 7,
   "metadata": {},
   "outputs": [
    {
     "name": "stdout",
     "output_type": "stream",
     "text": [
      "[mean: 0.99236, std: 0.00068, params: {'n_estimators': 20, 'max_depth': 5}, mean: 0.99310, std: 0.00081, params: {'n_estimators': 30, 'max_depth': 5}, mean: 0.99319, std: 0.00068, params: {'n_estimators': 40, 'max_depth': 5}, mean: 0.99190, std: 0.00166, params: {'n_estimators': 20, 'max_depth': 7}, mean: 0.99245, std: 0.00150, params: {'n_estimators': 30, 'max_depth': 7}, mean: 0.99282, std: 0.00137, params: {'n_estimators': 40, 'max_depth': 7}, mean: 0.99015, std: 0.00051, params: {'n_estimators': 20, 'max_depth': 9}, mean: 0.99098, std: 0.00034, params: {'n_estimators': 30, 'max_depth': 9}, mean: 0.99356, std: 0.00079, params: {'n_estimators': 40, 'max_depth': 9}] {'n_estimators': 40, 'max_depth': 9} 0.993559072506\n",
      "CPU times: user 3h 20min 23s, sys: 1.45 s, total: 3h 20min 25s\n",
      "Wall time: 3h 20min 26s\n"
     ]
    }
   ],
   "source": [
    "%%time\n",
    "param_test1 = {\n",
    " 'n_estimators':range(20,41,10),\n",
    " 'max_depth':range(5,10,2)\n",
    "}\n",
    "gb_search1 = GridSearchCV(estimator = GradientBoostingClassifier(random_state=10), \n",
    "     param_grid = param_test1)\n",
    "gb_search1.fit(feature, target)\n",
    "print gb_search1.grid_scores_, gb_search1.best_params_, gb_search1.best_score_"
   ]
  },
  {
   "cell_type": "code",
   "execution_count": 11,
   "metadata": {
    "scrolled": true
   },
   "outputs": [
    {
     "name": "stdout",
     "output_type": "stream",
     "text": [
      "{'n_estimators': 40, 'max_depth': 9}\n",
      "[5, 7, 9]\n",
      "[20, 30, 40]\n",
      "0.993559072506\n"
     ]
    }
   ],
   "source": [
    "print gb_search1.best_params_\n",
    "print gb_search1.param_grid['max_depth']\n",
    "print gb_search1.param_grid['n_estimators']\n",
    "print gb_search1.best_score_"
   ]
  },
  {
   "cell_type": "code",
   "execution_count": 13,
   "metadata": {},
   "outputs": [
    {
     "data": {
      "text/plain": [
       "<matplotlib.text.Text at 0x7f3ab2578410>"
      ]
     },
     "execution_count": 13,
     "metadata": {},
     "output_type": "execute_result"
    },
    {
     "data": {
      "image/png": "[encoded data removed]",
      "text/plain": [
       "<matplotlib.figure.Figure at 0x7f3ab2616750>"
      ]
     },
     "metadata": {},
     "output_type": "display_data"
    }
   ],
   "source": [
    "grid_visualization = []\n",
    "\n",
    "for grid_pair in gb_search1.grid_scores_:\n",
    "    grid_visualization.append(grid_pair.mean_validation_score)\n",
    "    \n",
    "grid_visualization = np.array(grid_visualization)\n",
    "grid_visualization.shape = (3, 3)\n",
    "sb.heatmap(grid_visualization, cmap='Blues')\n",
    "plt.xticks(np.arange(3) + 0.5, gb_search1.param_grid['max_depth'])\n",
    "plt.yticks(np.arange(3) + 0.5, gb_search1.param_grid['n_estimators'])\n",
    "plt.xlabel('max_depth')\n",
    "plt.ylabel('min_child_weight')"
   ]
  },
  {
   "cell_type": "code",
   "execution_count": null,
   "metadata": {
    "collapsed": true
   },
   "outputs": [],
   "source": []
  }
 ],
 "metadata": {
  "kernelspec": {
   "display_name": "Python 2",
   "language": "python",
   "name": "python2"
  },
  "language_info": {
   "codemirror_mode": {
    "name": "ipython",
    "version": 2
   },
   "file_extension": ".py",
   "mimetype": "text/x-python",
   "name": "python",
   "nbconvert_exporter": "python",
   "pygments_lexer": "ipython2",
   "version": "2.7.13"
  }
 },
 "nbformat": 4,
 "nbformat_minor": 2
}
